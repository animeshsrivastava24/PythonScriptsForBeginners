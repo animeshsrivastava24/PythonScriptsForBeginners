{
 "cells": [
  {
   "cell_type": "code",
   "execution_count": null,
   "metadata": {},
   "outputs": [],
   "source": [
    "import pandas as pd\n",
    "\n",
    "#this helps with the formatting of text, images\n",
    "from PIL import Image, ImageDraw, ImageFont\n",
    "\n",
    "#loading the data\n",
    "#replace ./Names.xlsx with the path to your file\n",
    "data = pd.read_excel ('./Names.xlsx') "
   ]
  },
  {
   "cell_type": "code",
   "execution_count": null,
   "metadata": {},
   "outputs": [],
   "source": [
    "#replace Name with the column containing the names in your file\n",
    "#assigning the name, date and signature with their respective fonts and font size\n",
    "for i in data[\"Name\"]:\n",
    "    if len(i)>20:\n",
    "        #you can change the font size and font url according to your taste\n",
    "        font_size = ImageFont.truetype(r\"c:\\users\\latee\\appdata\\local\\microsoft\\windows\\fonts\\product sans 400.ttf\", 120)\n",
    "    else:\n",
    "        font_size = ImageFont.truetype(r\"c:\\users\\latee\\appdata\\local\\microsoft\\windows\\fonts\\product sans 400.ttf\", 100)\n",
    "    im = Image.open('./certificate.png')\n",
    "    d = ImageDraw.Draw(im)\n",
    "\n",
    "    #the values should be changed to fit your text appropriately\n",
    "    name_location = (1272, 1210)\n",
    "    signature = (786, 1800)\n",
    "    date = (2050, 1800)\n",
    "    text_color = (0, 0, 0)\n",
    "    font = ImageFont.truetype(r\"c:\\WINDOWS\\FONTS\\ITCEDSCR.ttf\", 120)\n",
    "    d.text(name_location, i, fill = text_color, font = font_size)\n",
    "    d.text(signature, \"CinnamonXI\", fill = text_color, font = font)\n",
    "    d.text(date, \"01-10-2020\", fill = text_color, font = font_size)\n",
    "    im.save(i + \".png\")"
   ]
  },
  {
   "cell_type": "markdown",
   "metadata": {},
   "source": [
    "If you encounter any issue you can reach out on twitter twitter.com/CinnamonXi"
   ]
  }
 ],
 "metadata": {
  "kernelspec": {
   "display_name": "Python 3",
   "language": "python",
   "name": "python3"
  },
  "language_info": {
   "codemirror_mode": {
    "name": "ipython",
    "version": 3
   },
   "file_extension": ".py",
   "mimetype": "text/x-python",
   "name": "python",
   "nbconvert_exporter": "python",
   "pygments_lexer": "ipython3",
   "version": "3.8.3"
  }
 },
 "nbformat": 4,
 "nbformat_minor": 4
}
